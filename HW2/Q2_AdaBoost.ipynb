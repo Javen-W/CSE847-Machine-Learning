{
 "cells": [
  {
   "cell_type": "code",
   "execution_count": 8,
   "id": "e59fe6a9",
   "metadata": {},
   "outputs": [],
   "source": [
    "import numpy as np\n",
    "import math"
   ]
  },
  {
   "cell_type": "code",
   "execution_count": 30,
   "id": "63530238",
   "metadata": {},
   "outputs": [],
   "source": [
    "def classify(x, theta):\n",
    "    if x < theta:\n",
    "        return 1\n",
    "    else:\n",
    "        return -1\n",
    "\n",
    "def predict(x, theta):\n",
    "    y_hat = np.array([classify(_x, theta) for _x in x])\n",
    "    return y_hat\n",
    "    \n",
    "def calculate_epsilon(y_true, y_hat, w):\n",
    "    return np.sum(w[y_true != y_hat])\n",
    "\n",
    "def calculate_alpha(epsilon):\n",
    "    return (1 / 2) * math.log((1 - epsilon) / epsilon)\n",
    "\n",
    "def update_weights(w, alpha, y_true, y_hat):\n",
    "    next_w = (w * np.exp(-alpha * y_true * y_hat))\n",
    "    # z = np.sum(next_w)\n",
    "    return next_w"
   ]
  },
  {
   "cell_type": "code",
   "execution_count": 31,
   "id": "57774973",
   "metadata": {},
   "outputs": [
    {
     "name": "stdout",
     "output_type": "stream",
     "text": [
      "x: [0 1 2 3 4 5 6 7 8 9]\n",
      "y: [ 1  1  1 -1 -1 -1  1  1  1 -1]\n",
      "\n",
      "n=10, T=6\n",
      "\n",
      "weights:\n",
      "[[0.1 0.1 0.1 0.1 0.1 0.1 0.1 0.1 0.1 0.1]\n",
      " [0.  0.  0.  0.  0.  0.  0.  0.  0.  0. ]\n",
      " [0.  0.  0.  0.  0.  0.  0.  0.  0.  0. ]\n",
      " [0.  0.  0.  0.  0.  0.  0.  0.  0.  0. ]\n",
      " [0.  0.  0.  0.  0.  0.  0.  0.  0.  0. ]\n",
      " [0.  0.  0.  0.  0.  0.  0.  0.  0.  0. ]]\n",
      "\n",
      "thetas:\n",
      "[2.5 2.5 2.5 2.5 2.5 2.5]\n"
     ]
    }
   ],
   "source": [
    "x = np.arange(10)\n",
    "y = np.array([1, 1, 1, -1, -1, -1, 1, 1, 1, -1])\n",
    "print(f\"x: {x}\")\n",
    "print(f\"y: {y}\\n\")\n",
    "\n",
    "n = len(x)  # 10\n",
    "init_weight = 1.0 / n\n",
    "T = 6\n",
    "print(f\"n={n}, T={T}\\n\")\n",
    "\n",
    "weights = np.zeros((T, n))\n",
    "weights[0, :] = init_weight\n",
    "print(f\"weights:\\n{weights}\\n\")\n",
    "\n",
    "thetas = np.zeros((T))\n",
    "thetas[:] = 2.5\n",
    "print(f\"thetas:\\n{thetas}\")"
   ]
  },
  {
   "cell_type": "code",
   "execution_count": 33,
   "id": "eea1e58a",
   "metadata": {},
   "outputs": [
    {
     "name": "stdout",
     "output_type": "stream",
     "text": [
      "[[0.1        0.1        0.1        0.1        0.1        0.1\n",
      "  0.1        0.1        0.1        0.1       ]\n",
      " [0.06546537 0.06546537 0.06546537 0.06546537 0.06546537 0.06546537\n",
      "  0.15275252 0.15275252 0.15275252 0.06546537]\n",
      " [0.06021019 0.06021019 0.06021019 0.06021019 0.06021019 0.06021019\n",
      "  0.16608484 0.16608484 0.16608484 0.06021019]\n",
      " [0.06000037 0.06000037 0.06000037 0.06000037 0.06000037 0.06000037\n",
      "  0.16666565 0.16666565 0.16666565 0.06000037]\n",
      " [0.06       0.06       0.06       0.06       0.06       0.06\n",
      "  0.16666667 0.16666667 0.16666667 0.06      ]\n",
      " [0.06       0.06       0.06       0.06       0.06       0.06\n",
      "  0.16666667 0.16666667 0.16666667 0.06      ]]\n"
     ]
    }
   ],
   "source": [
    "for i in range(1, T):\n",
    "    theta = thetas[i - 1]\n",
    "    w = weights[i - 1]\n",
    "    \n",
    "    y_hat = predict(x, theta)\n",
    "    epsilon = calculate_epsilon(y, y_hat, w)\n",
    "    alpha = calculate_alpha(epsilon)\n",
    "    weights[i] = update_weights(w, alpha, y, y_hat)\n",
    "\n",
    "print(weights)"
   ]
  },
  {
   "cell_type": "code",
   "execution_count": null,
   "id": "013a035a",
   "metadata": {},
   "outputs": [],
   "source": []
  }
 ],
 "metadata": {
  "kernelspec": {
   "display_name": "Python 3 (ipykernel)",
   "language": "python",
   "name": "python3"
  },
  "language_info": {
   "codemirror_mode": {
    "name": "ipython",
    "version": 3
   },
   "file_extension": ".py",
   "mimetype": "text/x-python",
   "name": "python",
   "nbconvert_exporter": "python",
   "pygments_lexer": "ipython3",
   "version": "3.12.3"
  }
 },
 "nbformat": 4,
 "nbformat_minor": 5
}
