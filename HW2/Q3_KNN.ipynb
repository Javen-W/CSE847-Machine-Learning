{
 "cells": [
  {
   "cell_type": "code",
   "execution_count": 3,
   "id": "f20bb120",
   "metadata": {},
   "outputs": [],
   "source": [
    "import keras\n",
    "from keras.datasets import mnist\n",
    "import numpy as np\n",
    "import pandas as pd\n",
    "import matplotlib.pyplot as plt"
   ]
  },
  {
   "cell_type": "code",
   "execution_count": 4,
   "id": "ad335f96",
   "metadata": {},
   "outputs": [
    {
     "name": "stdout",
     "output_type": "stream",
     "text": [
      "(60000, 28, 28) (60000,) (10000, 28, 28) (10000,)\n",
      "(6000, 784) (6000,) (1000, 784) (1000,)\n"
     ]
    }
   ],
   "source": [
    "# Load the MNIST dataset\n",
    "(X_train, y_train), (X_test, y_test) = mnist.load_data()\n",
    "print(X_train.shape, y_train.shape, X_test.shape, y_test.shape)\n",
    "\n",
    "# flatten & reduce image dimensions\n",
    "X_train = X_train[:6000].reshape(-1, 784)\n",
    "y_train = y_train[:6000]\n",
    "X_test = X_test[:1000].reshape(-1, 784)\n",
    "y_test = y_test[:1000]\n",
    "print(X_train.shape, y_train.shape, X_test.shape, y_test.shape)"
   ]
  },
  {
   "cell_type": "code",
   "execution_count": 7,
   "id": "264777e3",
   "metadata": {},
   "outputs": [
    {
     "data": {
      "image/png": "[encoded data removed]",
      "text/plain": [
       "<Figure size 1000x500 with 4 Axes>"
      ]
     },
     "metadata": {},
     "output_type": "display_data"
    }
   ],
   "source": [
    "# Print 4 images in a row\n",
    "plt.figure(figsize=(10, 5))\n",
    "for i in range(4):\n",
    "    plt.subplot(1, 4, i+1)\n",
    "    plt.imshow(X_train[i], cmap='gray')\n",
    "    plt.title(f\"Label: {y_train[i]}\")\n",
    "    plt.axis('off')\n",
    "plt.tight_layout()\n",
    "plt.show()"
   ]
  },
  {
   "cell_type": "code",
   "execution_count": 20,
   "id": "9ae55e87",
   "metadata": {},
   "outputs": [],
   "source": [
    "def euclidean_distance(a, b):\n",
    "    return np.sqrt(np.sum((a - b) ** 2))\n",
    "\n",
    "def calculate_distances(A, B):\n",
    "    m, n = A.shape[0], B.shape[0]\n",
    "    D = np.zeros((m, n))\n",
    "    for i in range(m):\n",
    "        D[i, :] = np.sqrt(np.sum((A[i] - B) ** 2, axis=1))\n",
    "    return D\n",
    "\n",
    "def calculate_neighbors(D, k, nb_labels):\n",
    "    N = np.argsort(D, axis=1)[:, :k]\n",
    "    for i in range(N.shape[0]):\n",
    "        N[i, :] = nb_labels[N[i, :]]\n",
    "    return N\n",
    "\n",
    "def predict_classes(N):\n",
    "    m, _ = N.shape\n",
    "    y_hat = np.zeros((m))\n",
    "    for i in range(m):\n",
    "        counts = np.asarray(np.unique(N[i, :], return_counts=True)).T\n",
    "        y_hat[i] = counts[np.argmax(counts[:, 1])][0]\n",
    "    return y_hat\n",
    "\n",
    "def calculate_error(y_hat, y_true):\n",
    "    accuracy = (y_hat == y_true).sum() / len(y_hat)\n",
    "    error = 1.0 - accuracy\n",
    "    return error\n",
    "\n",
    "def knn(k):\n",
    "    # train error\n",
    "    D = calculate_distances(X_train, X_train)\n",
    "    N = calculate_neighbors(D, k, y_train)\n",
    "    y_hat = predict_classes(N)\n",
    "    err_train = calculate_error(y_hat, y_train)\n",
    "    \n",
    "    # test error\n",
    "    D = calculate_distances(X_test, X_train)\n",
    "    N = calculate_neighbors(D, k, y_train)\n",
    "    y_hat = predict_classes(N)\n",
    "    err_test = calculate_error(y_hat, y_test)\n",
    "\n",
    "    # return both errors\n",
    "    return err_train, err_test"
   ]
  },
  {
   "cell_type": "code",
   "execution_count": 21,
   "id": "fa679d39",
   "metadata": {},
   "outputs": [
    {
     "name": "stdout",
     "output_type": "stream",
     "text": [
      "k=1, i=0, err_train=0.0, err_test=0.74\n",
      "k=1, i=1, err_train=0.0, err_test=0.74\n",
      "k=1, i=2, err_train=0.0, err_test=0.74\n",
      "k=1, i=3, err_train=0.0, err_test=0.74\n",
      "k=1, i=4, err_train=0.0, err_test=0.74\n",
      "k=9, i=0, err_train=0.7338333333333333, err_test=0.8049999999999999\n",
      "k=9, i=1, err_train=0.7338333333333333, err_test=0.8049999999999999\n",
      "k=9, i=2, err_train=0.7338333333333333, err_test=0.8049999999999999\n",
      "k=9, i=3, err_train=0.7338333333333333, err_test=0.8049999999999999\n",
      "k=9, i=4, err_train=0.7338333333333333, err_test=0.8049999999999999\n",
      "k=19, i=0, err_train=0.7823333333333333, err_test=0.8200000000000001\n",
      "k=19, i=1, err_train=0.7823333333333333, err_test=0.8200000000000001\n",
      "k=19, i=2, err_train=0.7823333333333333, err_test=0.8200000000000001\n",
      "k=19, i=3, err_train=0.7823333333333333, err_test=0.8200000000000001\n",
      "k=19, i=4, err_train=0.7823333333333333, err_test=0.8200000000000001\n",
      "k=29, i=0, err_train=0.8069999999999999, err_test=0.8260000000000001\n",
      "k=29, i=1, err_train=0.8069999999999999, err_test=0.8260000000000001\n",
      "k=29, i=2, err_train=0.8069999999999999, err_test=0.8260000000000001\n",
      "k=29, i=3, err_train=0.8069999999999999, err_test=0.8260000000000001\n",
      "k=29, i=4, err_train=0.8069999999999999, err_test=0.8260000000000001\n",
      "k=39, i=0, err_train=0.8158333333333333, err_test=0.8260000000000001\n",
      "k=39, i=1, err_train=0.8158333333333333, err_test=0.8260000000000001\n",
      "k=39, i=2, err_train=0.8158333333333333, err_test=0.8260000000000001\n",
      "k=39, i=3, err_train=0.8158333333333333, err_test=0.8260000000000001\n",
      "k=39, i=4, err_train=0.8158333333333333, err_test=0.8260000000000001\n",
      "k=49, i=0, err_train=0.8260000000000001, err_test=0.834\n",
      "k=49, i=1, err_train=0.8260000000000001, err_test=0.834\n",
      "k=49, i=2, err_train=0.8260000000000001, err_test=0.834\n",
      "k=49, i=3, err_train=0.8260000000000001, err_test=0.834\n",
      "k=49, i=4, err_train=0.8260000000000001, err_test=0.834\n",
      "k=59, i=0, err_train=0.8336666666666667, err_test=0.838\n",
      "k=59, i=1, err_train=0.8336666666666667, err_test=0.838\n",
      "k=59, i=2, err_train=0.8336666666666667, err_test=0.838\n",
      "k=59, i=3, err_train=0.8336666666666667, err_test=0.838\n",
      "k=59, i=4, err_train=0.8336666666666667, err_test=0.838\n",
      "k=69, i=0, err_train=0.8403333333333334, err_test=0.845\n",
      "k=69, i=1, err_train=0.8403333333333334, err_test=0.845\n",
      "k=69, i=2, err_train=0.8403333333333334, err_test=0.845\n",
      "k=69, i=3, err_train=0.8403333333333334, err_test=0.845\n",
      "k=69, i=4, err_train=0.8403333333333334, err_test=0.845\n",
      "k=79, i=0, err_train=0.842, err_test=0.844\n",
      "k=79, i=1, err_train=0.842, err_test=0.844\n",
      "k=79, i=2, err_train=0.842, err_test=0.844\n",
      "k=79, i=3, err_train=0.842, err_test=0.844\n",
      "k=79, i=4, err_train=0.842, err_test=0.844\n",
      "k=89, i=0, err_train=0.8435, err_test=0.848\n",
      "k=89, i=1, err_train=0.8435, err_test=0.848\n",
      "k=89, i=2, err_train=0.8435, err_test=0.848\n",
      "k=89, i=3, err_train=0.8435, err_test=0.848\n",
      "k=89, i=4, err_train=0.8435, err_test=0.848\n",
      "k=99, i=0, err_train=0.8478333333333333, err_test=0.848\n",
      "k=99, i=1, err_train=0.8478333333333333, err_test=0.848\n",
      "k=99, i=2, err_train=0.8478333333333333, err_test=0.848\n",
      "k=99, i=3, err_train=0.8478333333333333, err_test=0.848\n",
      "k=99, i=4, err_train=0.8478333333333333, err_test=0.848\n"
     ]
    }
   ],
   "source": [
    "\"\"\"\n",
    "Execute KNN using various k-values, 5 runs for each.\n",
    "\"\"\"\n",
    "results = []\n",
    "k_values = [1, 9, 19, 29, 39, 49, 59, 69, 79, 89, 99]\n",
    "for k in k_values:\n",
    "    for i in range(5):\n",
    "        err_train, err_test = knn(k)\n",
    "        results.append({\n",
    "            'k': k,\n",
    "            'i': i,\n",
    "            'err_train': err_train,\n",
    "            'err_test': err_test,\n",
    "        })\n",
    "        print(f\"k={k}, i={i}, err_train={err_train}, err_test={err_test}\")"
   ]
  },
  {
   "cell_type": "code",
   "execution_count": 27,
   "id": "09e56411",
   "metadata": {},
   "outputs": [
    {
     "name": "stdout",
     "output_type": "stream",
     "text": [
      "    err_train  err_test\n",
      "k                      \n",
      "1    0.000000     0.740\n",
      "9    0.733833     0.805\n",
      "19   0.782333     0.820\n",
      "29   0.807000     0.826\n",
      "39   0.815833     0.826\n",
      "49   0.826000     0.834\n",
      "59   0.833667     0.838\n",
      "69   0.840333     0.845\n",
      "79   0.842000     0.844\n",
      "89   0.843500     0.848\n",
      "99   0.847833     0.848\n"
     ]
    },
    {
     "data": {
      "text/plain": [
       "<Axes: title={'center': 'K-Neighbors vs Error Rates'}, xlabel='K', ylabel='Error Rate'>"
      ]
     },
     "execution_count": 27,
     "metadata": {},
     "output_type": "execute_result"
    },
    {
     "data": {
      "image/png": "[encoded data removed]",
      "text/plain": [
       "<Figure size 640x480 with 1 Axes>"
      ]
     },
     "metadata": {},
     "output_type": "display_data"
    }
   ],
   "source": [
    "\"\"\"\n",
    "Analyze experiment results.\n",
    "\"\"\"\n",
    "results_df = pd.DataFrame.from_records(results).set_index('k')\n",
    "results_df = results_df.groupby(by=['k'])[['err_train', 'err_test']].agg('mean')\n",
    "print(results_df)\n",
    "results_df.plot(\n",
    "    xlabel=\"K\",\n",
    "    ylabel=\"Error Rate\",\n",
    "    title=\"K-Neighbors vs Error Rates\",\n",
    "    grid=True,\n",
    ")"
   ]
  },
  {
   "cell_type": "code",
   "execution_count": null,
   "id": "2d9739a2",
   "metadata": {},
   "outputs": [],
   "source": []
  }
 ],
 "metadata": {
  "kernelspec": {
   "display_name": "Python 3 (ipykernel)",
   "language": "python",
   "name": "python3"
  },
  "language_info": {
   "codemirror_mode": {
    "name": "ipython",
    "version": 3
   },
   "file_extension": ".py",
   "mimetype": "text/x-python",
   "name": "python",
   "nbconvert_exporter": "python",
   "pygments_lexer": "ipython3",
   "version": "3.12.3"
  }
 },
 "nbformat": 4,
 "nbformat_minor": 5
}
