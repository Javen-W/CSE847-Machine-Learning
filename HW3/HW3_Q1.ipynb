{
 "cells": [
  {
   "cell_type": "code",
   "execution_count": 2,
   "id": "11e84805-45ad-4e34-9440-fa766ae00cc5",
   "metadata": {},
   "outputs": [],
   "source": [
    "import numpy as np\n",
    "import pandas as pd\n",
    "import math"
   ]
  },
  {
   "cell_type": "code",
   "execution_count": 67,
   "id": "64d8f084-748f-4433-896a-0fe4b1c3aaf2",
   "metadata": {},
   "outputs": [],
   "source": [
    "\"\"\"\n",
    "Question 1.2 EM Algorithm\n",
    "\"\"\"\n",
    "points = np.array([-67, -48, 6, 8, 14, 16, 23, 24])\n",
    "K = 2\n",
    "\n",
    "means = np.array([-67, 24])\n",
    "variances = np.array([100, 100])\n",
    "weights = np.array([0.5, 0.5])\n",
    "\n",
    "def gaussian_pdf(x, mean, covar):\n",
    "    return (1 / (math.sqrt(2 * math.pi * covar))) * math.exp(-((x - mean) ** 2) / (2 * covar))\n",
    "\n",
    "def calculate_responsibility(x, k):\n",
    "    k0 = weights[0] * gaussian_pdf(x, means[0], variances[0])\n",
    "    k1 = weights[1] * gaussian_pdf(x, means[1], variances[1])\n",
    "    print(f\"Gaussian Density (x={x}, k=0) = {k0}, (x={x}, k=1) = {k1}\")\n",
    "    return (weights[k] * gaussian_pdf(x, means[k], variances[k])) / (k0 + k1)\n",
    "\n",
    "def update_weights(res, k):\n",
    "    return res[:, k].mean()\n",
    "\n",
    "def update_means(res, k):\n",
    "    return np.sum(res[:, k] * points) / np.sum(res[:, k])\n",
    "\n",
    "def update_variances(res, k):\n",
    "    return np.sum(res[:, k] * (points - means[k]) ** 2) / np.sum(res[:, k])\n",
    "\n",
    "def expectation_step():\n",
    "    res = np.array([\n",
    "        [\n",
    "            calculate_responsibility(x, 0),\n",
    "            calculate_responsibility(x, 1)\n",
    "        ] for x in points\n",
    "    ])\n",
    "    print()\n",
    "    for i, x in enumerate(points):\n",
    "        for k in range(K):\n",
    "            print(f\"Responsibility (x={x}, k={k}) = {res[i, k]}\")\n",
    "    return res\n",
    "\n",
    "def maximization_step(res):\n",
    "    for k in range(K):\n",
    "        weights[k] = update_weights(res, k)\n",
    "        means[k] = update_means(res, k)\n",
    "        variances[k] = update_variances(res, k)\n",
    "        print(f\"Weight (k={k}) = {weights[k]}\")\n",
    "        print(f\"Mean (k={k}) = {means[k]}\")\n",
    "        print(f\"Variance (k={k}) = {variances[k]}\")\n",
    "\n",
    "def em_algorithm():\n",
    "    res = expectation_step()\n",
    "    print()\n",
    "    maximization_step(res)"
   ]
  },
  {
   "cell_type": "code",
   "execution_count": 68,
   "id": "4ec9e3ea-3666-4510-be82-7a5ef42ed04f",
   "metadata": {},
   "outputs": [
    {
     "name": "stdout",
     "output_type": "stream",
     "text": [
      "Gaussian Density (x=-67, k=0) = 0.019947114020071634, (x=-67, k=1) = 2.0792994895575653e-20\n",
      "Gaussian Density (x=-67, k=0) = 0.019947114020071634, (x=-67, k=1) = 2.0792994895575653e-20\n",
      "Gaussian Density (x=-48, k=0) = 0.0032807907387338298, (x=-48, k=1) = 1.1039949815685695e-13\n",
      "Gaussian Density (x=-48, k=0) = 0.0032807907387338298, (x=-48, k=1) = 1.1039949815685695e-13\n",
      "Gaussian Density (x=6, k=0) = 5.3469189357708194e-14, (x=6, k=1) = 0.003947507915044707\n",
      "Gaussian Density (x=6, k=0) = 5.3469189357708194e-14, (x=6, k=1) = 0.003947507915044707\n",
      "Gaussian Density (x=8, k=0) = 1.2171602665145047e-14, (x=8, k=1) = 0.005546041733972778\n",
      "Gaussian Density (x=8, k=0) = 1.2171602665145047e-14, (x=8, k=1) = 0.005546041733972778\n",
      "Gaussian Density (x=14, k=0) = 1.1294047015771514e-16, (x=14, k=1) = 0.012098536225957168\n",
      "Gaussian Density (x=14, k=0) = 1.1294047015771514e-16, (x=14, k=1) = 0.012098536225957168\n",
      "Gaussian Density (x=16, k=0) = 2.1908197177546787e-17, (x=16, k=1) = 0.014484577638074137\n",
      "Gaussian Density (x=16, k=0) = 2.1908197177546787e-17, (x=16, k=1) = 0.014484577638074137\n",
      "Gaussian Density (x=23, k=0) = 5.139886785834457e-20, (x=23, k=1) = 0.01984762737385059\n",
      "Gaussian Density (x=23, k=0) = 5.139886785834457e-20, (x=23, k=1) = 0.01984762737385059\n",
      "Gaussian Density (x=24, k=0) = 2.0792994895575653e-20, (x=24, k=1) = 0.019947114020071634\n",
      "Gaussian Density (x=24, k=0) = 2.0792994895575653e-20, (x=24, k=1) = 0.019947114020071634\n",
      "\n",
      "Responsibility (x=-67, k=0) = 1.0\n",
      "Responsibility (x=-67, k=1) = 1.04240617839016e-18\n",
      "Responsibility (x=-48, k=0) = 0.9999999999663497\n",
      "Responsibility (x=-48, k=1) = 3.3650271213502925e-11\n",
      "Responsibility (x=6, k=0) = 1.354504930900902e-11\n",
      "Responsibility (x=6, k=1) = 0.999999999986455\n",
      "Responsibility (x=8, k=0) = 2.1946467857535377e-12\n",
      "Responsibility (x=8, k=1) = 0.9999999999978053\n",
      "Responsibility (x=14, k=0) = 9.335052443402414e-15\n",
      "Responsibility (x=14, k=1) = 0.9999999999999907\n",
      "Responsibility (x=16, k=0) = 1.5125188821494458e-15\n",
      "Responsibility (x=16, k=1) = 0.9999999999999984\n",
      "Responsibility (x=23, k=0) = 2.58967315791423e-18\n",
      "Responsibility (x=23, k=1) = 1.0\n",
      "Responsibility (x=24, k=0) = 1.04240617839016e-18\n",
      "Responsibility (x=24, k=1) = 1.0\n",
      "\n",
      "Weight (k=0) = 0.2499999999977625\n",
      "Mean (k=0) = -57\n",
      "Variance (k=0) = 90\n",
      "Weight (k=1) = 0.7500000000022375\n",
      "Mean (k=1) = 15\n",
      "Variance (k=1) = 46\n"
     ]
    }
   ],
   "source": [
    "em_algorithm()"
   ]
  },
  {
   "cell_type": "code",
   "execution_count": null,
   "id": "c99235eb-acbf-42fe-bcd4-e222401c2b6f",
   "metadata": {},
   "outputs": [],
   "source": []
  }
 ],
 "metadata": {
  "kernelspec": {
   "display_name": "Python 3 (ipykernel)",
   "language": "python",
   "name": "python3"
  },
  "language_info": {
   "codemirror_mode": {
    "name": "ipython",
    "version": 3
   },
   "file_extension": ".py",
   "mimetype": "text/x-python",
   "name": "python",
   "nbconvert_exporter": "python",
   "pygments_lexer": "ipython3",
   "version": "3.12.4"
  }
 },
 "nbformat": 4,
 "nbformat_minor": 5
}
